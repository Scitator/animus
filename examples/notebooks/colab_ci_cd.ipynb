{
  "cells": [
    {
      "cell_type": "markdown",
      "metadata": {
        "id": "7um2l1WUk0nn"
      },
      "source": [
        "<p><img alt=\"Colaboratory logo\" height=\"45px\" src=\"/img/colab_favicon.ico\" align=\"left\" hspace=\"10px\" vspace=\"0px\"></p>\n",
        "\n",
        "<h1>What is colab minimal CI/CD?</h1>\n",
        "\n",
        "Colaboratory allows you to write and execute Python in your browser, with \n",
        "- Zero configuration required\n",
        "- Free access to GPUs\n",
        "- Easy sharing\n",
        "\n",
        "In this way, it's a perfect tool to test and share your work on an open-source Deep Learning framework. Why shouldn't we use it?\n",
        "\n",
        "Features:\n",
        "- clones the code from Github (you could select your branch of interest if you would like to)\n",
        "- installs the requirements\n",
        "- checks codestyle and docs\n",
        "- runs tests"
      ]
    },
    {
      "cell_type": "markdown",
      "metadata": {
        "id": "HVl8c7w9Ze3p"
      },
      "source": [
        "# Code"
      ]
    },
    {
      "cell_type": "code",
      "execution_count": null,
      "metadata": {
        "id": "va2uPF3hC834"
      },
      "outputs": [],
      "source": [
        "! export GIT_REPO=\"scitator/animus\" && git clone https://github.com/${GIT_REPO}"
      ]
    },
    {
      "cell_type": "code",
      "execution_count": null,
      "metadata": {},
      "outputs": [],
      "source": [
        "# (optional) branch\n",
        "! export BRANCH=\"dev\" && cd animus && git checkout -b $BRANCH origin/$BRANCH  && git pull origin $BRANCH"
      ]
    },
    {
      "cell_type": "markdown",
      "metadata": {
        "id": "zdP0lUOkZhQF"
      },
      "source": [
        "# Requirements"
      ]
    },
    {
      "cell_type": "code",
      "execution_count": null,
      "metadata": {
        "id": "pOEZDcoJC_Qp"
      },
      "outputs": [],
      "source": [
        "# REQUIREMENTS: [\"jax_dl\", \"keras_dl\", \"sklearn\", \"torch_dl\", \"torch_rl\"]\n",
        "! export REQUIREMENTS=\"jax_dl\" && pip install -r ./animus/requirements/requirements_${REQUIREMENTS}.txt"
      ]
    },
    {
      "cell_type": "code",
      "execution_count": null,
      "metadata": {},
      "outputs": [],
      "source": [
        "# (optional) jax fix\n",
        "! pip install \"jax[cuda]\" -f https://storage.googleapis.com/jax-releases/jax_releases.html"
      ]
    },
    {
      "cell_type": "markdown",
      "metadata": {
        "id": "1QMCOj0yZt2h"
      },
      "source": [
        "# Tests"
      ]
    },
    {
      "cell_type": "code",
      "execution_count": null,
      "metadata": {
        "id": "lwSvMPYhGgMn"
      },
      "outputs": [],
      "source": [
        "! export REQUIREMENTS=\"jax_dl\" && cd animus && OMP_NUM_THREADS=\"1\" MKL_NUM_THREADS=\"1\" PYTHONPATH=\".\" bash bin/check_${REQUIREMENTS}.sh"
      ]
    },
    {
      "cell_type": "markdown",
      "metadata": {
        "id": "wrKbPBunmXH6"
      },
      "source": [
        "---"
      ]
    },
    {
      "cell_type": "markdown",
      "metadata": {
        "id": "d7L-_rYemY3o"
      },
      "source": [
        "# Extra"
      ]
    },
    {
      "cell_type": "code",
      "execution_count": null,
      "metadata": {
        "id": "mEzzyFWOh0PL"
      },
      "outputs": [],
      "source": []
    }
  ],
  "metadata": {
    "accelerator": "GPU",
    "colab": {
      "collapsed_sections": [],
      "name": "Animus: colab minimal CI/CD",
      "provenance": []
    },
    "kernelspec": {
      "display_name": "Python 3",
      "name": "python3"
    },
    "language_info": {
      "name": "python"
    }
  },
  "nbformat": 4,
  "nbformat_minor": 0
}
